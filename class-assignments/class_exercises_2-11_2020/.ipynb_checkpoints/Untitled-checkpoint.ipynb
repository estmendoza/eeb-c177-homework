{
 "cells": [
  {
   "cell_type": "code",
   "execution_count": 2,
   "metadata": {},
   "outputs": [
    {
     "name": "stdout",
     "output_type": "stream",
     "text": [
      "['THIS', 'IS', 'MY', 'LIST']\n"
     ]
    }
   ],
   "source": [
    "words = [\"this\", \"is\", \"my\", \"list\"]\n",
    "bigwords = []\n",
    "for word in words:\n",
    "    bigwords.append(word.upper())\n",
    "print(bigwords)"
   ]
  },
  {
   "cell_type": "code",
   "execution_count": 6,
   "metadata": {},
   "outputs": [
    {
     "name": "stdout",
     "output_type": "stream",
     "text": [
      "r\n",
      "o\n",
      "b\n",
      "e\n",
      "r\n",
      "t\n"
     ]
    }
   ],
   "source": [
    "name = 'robert'\n",
    "for char in name:\n",
    "    print(char)"
   ]
  },
  {
   "cell_type": "code",
   "execution_count": 24,
   "metadata": {},
   "outputs": [
    {
     "name": "stdout",
     "output_type": "stream",
     "text": [
      "1 is odd\n",
      "2 is even\n",
      "3 is odd\n",
      "4 is even\n",
      "5 is odd\n"
     ]
    }
   ],
   "source": [
    "dd = {'a':1, 'b':2, 'c':3, 'd':4, 'e':5}\n",
    "#print(dic.values())\n",
    "\n",
    "for value in dd.values():\n",
    "    if value %2 ==0:\n",
    "        print(value, \"is even\")\n",
    "    elif value %2 != 0:\n",
    "        print(value, \"is odd\")"
   ]
  },
  {
   "cell_type": "code",
   "execution_count": 29,
   "metadata": {},
   "outputs": [
    {
     "name": "stdout",
     "output_type": "stream",
     "text": [
      "a is odd\n",
      "b is even\n",
      "c is odd\n",
      "d is even\n",
      "e is odd\n"
     ]
    }
   ],
   "source": [
    "for keys in dd:\n",
    "    if dd[keys] % 2 ==0:\n",
    "        print(keys, 'is even')\n",
    "    else:\n",
    "        print(keys, 'is odd')\n"
   ]
  },
  {
   "cell_type": "code",
   "execution_count": 33,
   "metadata": {},
   "outputs": [
    {
     "name": "stdout",
     "output_type": "stream",
     "text": [
      "the value at key a is 1\n",
      "1 is odd\n",
      "the value at key b is 2\n",
      "2 is even\n",
      "the value at key c is 3\n",
      "3 is odd\n",
      "the value at key d is 4\n",
      "4 is even\n",
      "the value at key e is 5\n",
      "5 is odd\n"
     ]
    }
   ],
   "source": [
    "for key in dd.keys():\n",
    "    print('the value at key {} is {}'.format(key, dd[key]))\n",
    "    if (dd[key]%2==0):\n",
    "        print('{} is even'.format(dd[key]))\n",
    "    else:\n",
    "        print('{} is odd'.format(dd[key]))"
   ]
  },
  {
   "cell_type": "code",
   "execution_count": null,
   "metadata": {},
   "outputs": [],
   "source": []
  }
 ],
 "metadata": {
  "kernelspec": {
   "display_name": "Python 3",
   "language": "python",
   "name": "python3"
  },
  "language_info": {
   "codemirror_mode": {
    "name": "ipython",
    "version": 3
   },
   "file_extension": ".py",
   "mimetype": "text/x-python",
   "name": "python",
   "nbconvert_exporter": "python",
   "pygments_lexer": "ipython3",
   "version": "3.7.5"
  }
 },
 "nbformat": 4,
 "nbformat_minor": 2
}
