{
 "cells": [
  {
   "cell_type": "markdown",
   "metadata": {},
   "source": [
    "## 1. What is a list in Python? Write the code to define a list with the name my_list and the values 45, 4, 3.32, ‘abc’, 10121."
   ]
  },
  {
   "cell_type": "code",
   "execution_count": 3,
   "metadata": {},
   "outputs": [
    {
     "data": {
      "text/plain": [
       "[45, 4, 3.32, 'abc', 10121]"
      ]
     },
     "execution_count": 3,
     "metadata": {},
     "output_type": "execute_result"
    }
   ],
   "source": [
    "# A list consists of elements (seperated by commas) inside of brackets []\n",
    "my_list = [45, 4, 3.32, 'abc', 10121] \n",
    "my_list"
   ]
  },
  {
   "cell_type": "code",
   "execution_count": 58,
   "metadata": {},
   "outputs": [
    {
     "data": {
      "text/plain": [
       "[['words', 'have', 'letters'], [5, 4, 7], [5.0, 4.0, 7.0]]"
      ]
     },
     "execution_count": 58,
     "metadata": {},
     "output_type": "execute_result"
    }
   ],
   "source": [
    "# REMIX (list of lists)\n",
    "\n",
    "list_of_lists = [['words', 'have', 'letters'], [5, 4, 7], [5.0, 4.0, 7.0]]\n",
    "list_of_lists"
   ]
  },
  {
   "cell_type": "markdown",
   "metadata": {},
   "source": [
    "## 2. In 25 words or less, describe the difference between dict() and defaultdict()."
   ]
  },
  {
   "cell_type": "code",
   "execution_count": 4,
   "metadata": {},
   "outputs": [],
   "source": [
    "# dict() creates a dictionary where you can assign values \n",
    "# and keys as a pair\n",
    "\n",
    "# defaultdict() assigns default values for keys \n",
    "# that don't have them\n"
   ]
  },
  {
   "cell_type": "code",
   "execution_count": null,
   "metadata": {},
   "outputs": [],
   "source": [
    "# I don't know a creative way to add onto this question"
   ]
  },
  {
   "cell_type": "markdown",
   "metadata": {},
   "source": [
    "## 3. What would the output be for the following Python code? \n",
    "if 4 > 5:   \n",
    "print('A')   \n",
    "elif 4 == 5:   \n",
    "print('B')   \n",
    "elif 4 < 5:   \n",
    "print('C')   "
   ]
  },
  {
   "cell_type": "code",
   "execution_count": 6,
   "metadata": {},
   "outputs": [],
   "source": [
    "#C is printed bc its the only true statement"
   ]
  },
  {
   "cell_type": "code",
   "execution_count": 52,
   "metadata": {},
   "outputs": [
    {
     "name": "stdout",
     "output_type": "stream",
     "text": [
      "C\n"
     ]
    }
   ],
   "source": [
    "#REMIX (creating 2 statements that are true)\n",
    "\n",
    "if 4 > 5:\n",
    "    print('A')\n",
    "elif 4 == 5:\n",
    "    print('B')\n",
    "elif 4 < 5:\n",
    "    print('C')\n",
    "elif 4 == 4:\n",
    "    print('D')\n",
    "    \n",
    "#even though the 4th statement is true, the third statement \n",
    "#was the first statement to be true, so it will be the one\n",
    "#printed"
   ]
  },
  {
   "cell_type": "markdown",
   "metadata": {},
   "source": [
    "## 4. Write code for a simple Python program.   \n",
    "a) Write the Python code necessary to initialize the default dictionary collection with the name my_dict.   \n",
    "(1) Be sure to include the necessary import line\n",
    "of code to be able to use default dictionary.   \n",
    "(2) We will be using the default dictionary to count the elements of the list, so make sure to initialize the\n",
    "default dictionary with the proper data type for counting."
   ]
  },
  {
   "cell_type": "code",
   "execution_count": 9,
   "metadata": {},
   "outputs": [],
   "source": [
    "from collections import defaultdict #call out defaultdict\n",
    "my_dict = defaultdict(int) #assign the data type for the value"
   ]
  },
  {
   "cell_type": "markdown",
   "metadata": {},
   "source": [
    "b) Given one string separated by spaces, food_list, write the line of code necessary to split the string by spaces into a list of values separated by commas (like we did in lecture), and save it.   \n",
    "food_list = 'spam spam spam spam spam spam eggs spam'"
   ]
  },
  {
   "cell_type": "code",
   "execution_count": 10,
   "metadata": {},
   "outputs": [],
   "source": [
    "food_list = 'spam spam spam spam spam spam eggs spam'.split() #make a list"
   ]
  },
  {
   "cell_type": "markdown",
   "metadata": {},
   "source": [
    "c) Using the my_dict default dictionary you made in (a), write a for loop that would return the counts of food_list into the my_dict default dictionary."
   ]
  },
  {
   "cell_type": "code",
   "execution_count": 11,
   "metadata": {},
   "outputs": [
    {
     "data": {
      "text/plain": [
       "defaultdict(int, {'spam': 7, 'eggs': 1})"
      ]
     },
     "execution_count": 11,
     "metadata": {},
     "output_type": "execute_result"
    }
   ],
   "source": [
    "for food in food_list: #iterate through food_list\n",
    "    my_dict[food] += 1 #add a value of 1 for each time a food item is present in food_list\n",
    "my_dict"
   ]
  },
  {
   "cell_type": "code",
   "execution_count": 57,
   "metadata": {},
   "outputs": [
    {
     "data": {
      "text/plain": [
       "defaultdict(str,\n",
       "            {'cake': 'yummy',\n",
       "             'chard': 'yucky',\n",
       "             'candy': 'yummy',\n",
       "             'corn': 'yummy',\n",
       "             'carrots': 'yummy',\n",
       "             'cantaloupe': 'yummy'})"
      ]
     },
     "execution_count": 57,
     "metadata": {},
     "output_type": "execute_result"
    }
   ],
   "source": [
    "# REMIX (defaultdict with string datatype)\n",
    "\n",
    "from collections import defaultdict\n",
    "new_dict = defaultdict(str)\n",
    "\n",
    "food_list2 = 'cake chard candy corn carrots cantaloupe'.split()\n",
    "\n",
    "for food in food_list2:\n",
    "    if food == 'chard': #give chard a value of yucky\n",
    "        new_dict[food] = 'yucky'\n",
    "    else: #every other food is yummy\n",
    "        new_dict[food] = 'yummy'\n",
    "new_dict"
   ]
  },
  {
   "cell_type": "markdown",
   "metadata": {},
   "source": [
    "## 5. Python has a subfunction for strings that allows you to capitalize the characters within that string. The .upper() function accomplishes this. For example, a string such as, x = ‘abc’ could be capitalized and saved as such by running x = x.upper()   \n",
    "## Given this, write a simple for loop that would iterate through a list of words (words) and save the all-caps versions in a new list called (bigwords).   \n",
    "words = [‘this’, ‘is’, ‘my’, ‘list’, ‘of’, ‘words’]"
   ]
  },
  {
   "cell_type": "code",
   "execution_count": 24,
   "metadata": {},
   "outputs": [
    {
     "data": {
      "text/plain": [
       "['THIS', 'IS', 'MY', 'LIST', 'OF', 'WORDS']"
      ]
     },
     "execution_count": 24,
     "metadata": {},
     "output_type": "execute_result"
    }
   ],
   "source": [
    "words = ['this', 'is', 'my', 'list', 'of', 'words']\n",
    "bigwords = [] #where we will store the big words\n",
    "\n",
    "for word in words: #iterate through words list\n",
    "    bigwords.append(word.upper()) #capitalize each word, then append it to the empty list bigwords\n",
    "    \n",
    "bigwords"
   ]
  },
  {
   "cell_type": "code",
   "execution_count": 44,
   "metadata": {},
   "outputs": [
    {
     "data": {
      "text/plain": [
       "['this', 'is', 'my', 'list', 'of', 'words']"
      ]
     },
     "execution_count": 44,
     "metadata": {},
     "output_type": "execute_result"
    }
   ],
   "source": [
    "# REMIX (turn the bigwords list back to lowercase)\n",
    "\n",
    "littlewords = []\n",
    "\n",
    "for word in bigwords:\n",
    "    littlewords.append(word.lower())\n",
    "    \n",
    "littlewords"
   ]
  },
  {
   "cell_type": "markdown",
   "metadata": {},
   "source": [
    "## 6. What would the output for the following code be. Write it as it would actually appear in the Jupyter Notebook output.    \n",
    "number = 10   \n",
    "for x in range(number):   \n",
    "&nbsp;&nbsp;&nbsp;&nbsp;output = x**2   \n",
    "&nbsp;&nbsp;&nbsp;&nbsp;print(output)   "
   ]
  },
  {
   "cell_type": "code",
   "execution_count": 26,
   "metadata": {},
   "outputs": [],
   "source": [
    "# 0\n",
    "# 1\n",
    "# 4\n",
    "# 9 \n",
    "# 16\n",
    "# 25\n",
    "# 36\n",
    "# 49\n",
    "# 64\n",
    "# 81\n",
    "#each line is an iteration of numbers 0-9 (10 is non inclusive)"
   ]
  },
  {
   "cell_type": "code",
   "execution_count": 43,
   "metadata": {},
   "outputs": [
    {
     "name": "stdout",
     "output_type": "stream",
     "text": [
      "0\n",
      "4\n",
      "16\n",
      "36\n",
      "64\n"
     ]
    }
   ],
   "source": [
    "# REMIX (output for even numbers within the range)\n",
    "\n",
    "number = 10\n",
    "for x in range(number):\n",
    "    if x % 2 == 0: #if the iterated number produces a remainder of 0 when divided by 2, it is even, so carry on with exponent\n",
    "        output = x**2\n",
    "        print(output) \n"
   ]
  },
  {
   "cell_type": "markdown",
   "metadata": {},
   "source": [
    "## 7. Symbols for conditionals. \n",
    "a) Which symbol in Python is used to mean “equal to”?"
   ]
  },
  {
   "cell_type": "code",
   "execution_count": null,
   "metadata": {},
   "outputs": [],
   "source": [
    "# =="
   ]
  },
  {
   "cell_type": "markdown",
   "metadata": {},
   "source": [
    "b) Which symbol in Python is used to mean “not equal to”?"
   ]
  },
  {
   "cell_type": "code",
   "execution_count": null,
   "metadata": {},
   "outputs": [],
   "source": [
    "# !="
   ]
  },
  {
   "cell_type": "markdown",
   "metadata": {},
   "source": [
    "c) Which symbol in Python is used to mean “greater than or equal to”?"
   ]
  },
  {
   "cell_type": "code",
   "execution_count": null,
   "metadata": {},
   "outputs": [],
   "source": [
    "# >="
   ]
  },
  {
   "cell_type": "markdown",
   "metadata": {},
   "source": [
    "d) Which symbol in Python is used to find the remainder?"
   ]
  },
  {
   "cell_type": "code",
   "execution_count": null,
   "metadata": {},
   "outputs": [],
   "source": [
    "# %"
   ]
  },
  {
   "cell_type": "code",
   "execution_count": null,
   "metadata": {},
   "outputs": [],
   "source": [
    "## REMIX (other conditionals)\n",
    "\n",
    "# greater than >\n",
    "# less than <\n",
    "# less than or equal to <="
   ]
  },
  {
   "cell_type": "markdown",
   "metadata": {},
   "source": [
    "## 8. What subfunction do you use to remove the last element of a list? "
   ]
  },
  {
   "cell_type": "code",
   "execution_count": null,
   "metadata": {},
   "outputs": [],
   "source": [
    "# my_list.pop()"
   ]
  },
  {
   "cell_type": "code",
   "execution_count": null,
   "metadata": {},
   "outputs": [],
   "source": [
    "#REMIX (add element to end of a list)\n",
    "\n",
    "# my_list.append()"
   ]
  },
  {
   "cell_type": "markdown",
   "metadata": {},
   "source": [
    "## 9. How do you find the length of a list with the name mylist?     \n",
    "Make sure to write the code necessary to do this (you can show an example with mylist – no need to define what the values are)."
   ]
  },
  {
   "cell_type": "code",
   "execution_count": 35,
   "metadata": {},
   "outputs": [
    {
     "data": {
      "text/plain": [
       "5"
      ]
     },
     "execution_count": 35,
     "metadata": {},
     "output_type": "execute_result"
    }
   ],
   "source": [
    "len(my_list) "
   ]
  },
  {
   "cell_type": "code",
   "execution_count": 41,
   "metadata": {},
   "outputs": [
    {
     "data": {
      "text/plain": [
       "5"
      ]
     },
     "execution_count": 41,
     "metadata": {},
     "output_type": "execute_result"
    }
   ],
   "source": [
    "#REMIX (another way to find length)\n",
    "my_list.__len__()"
   ]
  },
  {
   "cell_type": "markdown",
   "metadata": {},
   "source": [
    "## Write a for loop that prints a list containing the even numbers from 0 to 100. "
   ]
  },
  {
   "cell_type": "code",
   "execution_count": 34,
   "metadata": {},
   "outputs": [
    {
     "name": "stdout",
     "output_type": "stream",
     "text": [
      "[0, 2, 4, 6, 8, 10, 12, 14, 16, 18, 20, 22, 24, 26, 28, 30, 32, 34, 36, 38, 40, 42, 44, 46, 48, 50, 52, 54, 56, 58, 60, 62, 64, 66, 68, 70, 72, 74, 76, 78, 80, 82, 84, 86, 88, 90, 92, 94, 96, 98, 100]\n"
     ]
    }
   ],
   "source": [
    "even_list = [] #create a list where even #s will be stored\n",
    "for num in range(101): #range(101) bc 101 is non inclusive (last number will be 100)\n",
    "    if num % 2 == 0: #if the iterated number produces a remainder of 0 when divided by 2, it is even, so carry on with exponent\n",
    "        even_list.append(num) #append every iteration (that met if statement) into empty even_list\n",
    "print(even_list)"
   ]
  },
  {
   "cell_type": "code",
   "execution_count": 33,
   "metadata": {},
   "outputs": [
    {
     "name": "stdout",
     "output_type": "stream",
     "text": [
      "[1, 3, 5, 7, 9, 11, 13, 15, 17, 19, 21, 23, 25, 27, 29, 31, 33, 35, 37, 39, 41, 43, 45, 47, 49, 51, 53, 55, 57, 59, 61, 63, 65, 67, 69, 71, 73, 75, 77, 79, 81, 83, 85, 87, 89, 91, 93, 95, 97, 99]\n"
     ]
    }
   ],
   "source": [
    "#REMIX (get odd numbers from 0 to 100)\n",
    "\n",
    "odd_list = []\n",
    "for num in range(101):\n",
    "    if num % 2 != 0:\n",
    "        odd_list.append(num)\n",
    "print(odd_list)"
   ]
  },
  {
   "cell_type": "code",
   "execution_count": null,
   "metadata": {},
   "outputs": [],
   "source": []
  }
 ],
 "metadata": {
  "kernelspec": {
   "display_name": "Python 3",
   "language": "python",
   "name": "python3"
  },
  "language_info": {
   "codemirror_mode": {
    "name": "ipython",
    "version": 3
   },
   "file_extension": ".py",
   "mimetype": "text/x-python",
   "name": "python",
   "nbconvert_exporter": "python",
   "pygments_lexer": "ipython3",
   "version": "3.7.5"
  }
 },
 "nbformat": 4,
 "nbformat_minor": 2
}
