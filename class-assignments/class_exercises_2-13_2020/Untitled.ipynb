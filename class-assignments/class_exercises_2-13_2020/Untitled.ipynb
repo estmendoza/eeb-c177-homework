{
 "cells": [
  {
   "cell_type": "code",
   "execution_count": 2,
   "metadata": {},
   "outputs": [
    {
     "name": "stdout",
     "output_type": "stream",
     "text": [
      "What is the temperature in Fahrenheit?: 75\n",
      "The temperature in Celsius is 23.88888888888889\n"
     ]
    }
   ],
   "source": [
    "xx = input('What is the temperature in Fahrenheit?: ')\n",
    "yy = ((float(xx)-32) * 5/9)\n",
    "print(\"The temperature in Celsius is {}\".format(yy))"
   ]
  },
  {
   "cell_type": "code",
   "execution_count": 79,
   "metadata": {},
   "outputs": [
    {
     "name": "stdout",
     "output_type": "stream",
     "text": [
      "What is the temperature?: k\n",
      "please enter a number\n"
     ]
    }
   ],
   "source": [
    "xx = input('What is the temperature?: ')\n",
    "if xx.isdigit():\n",
    "    yy = input('Is this is Celsius or Fahrenheit?: ')\n",
    "    if yy[0] == 'F'.lower():\n",
    "        temp = ((float(xx)-32) * 5/9)\n",
    "        print('the tempt in cel is {}'.format(temp))\n",
    "    elif yy[0] == 'C'.lower():\n",
    "        temp = ((float(xx)+32) * 9/5)\n",
    "        print('the tempt in far is {}'.format(temp))\n",
    "    else:\n",
    "        print(\"Please enter 'Fahrenheit' or 'Celsius'\")\n",
    "else: \n",
    "    print('please enter a number')"
   ]
  },
  {
   "cell_type": "code",
   "execution_count": 67,
   "metadata": {},
   "outputs": [
    {
     "name": "stdout",
     "output_type": "stream",
     "text": [
      "atctggtttaaattgggaatcctcgat\n",
      "attcttcttggatc\n"
     ]
    }
   ],
   "source": [
    "myDNA = \"atctggtttaaattgggaatcctcgat\\nattcttcttggatc\"\n",
    "print(myDNA)"
   ]
  },
  {
   "cell_type": "code",
   "execution_count": 51,
   "metadata": {},
   "outputs": [],
   "source": [
    "with open(\"dnaseq.txt\", \"w\") as wf:\n",
    "    for line in myDNA:\n",
    "        wf.write(line)"
   ]
  },
  {
   "cell_type": "code",
   "execution_count": 52,
   "metadata": {},
   "outputs": [
    {
     "data": {
      "text/plain": [
       "'/home/eebc177student/Developer/repos/eeb-c177-homework/class-assignments/class_exercises_2-13_2020'"
      ]
     },
     "execution_count": 52,
     "metadata": {},
     "output_type": "execute_result"
    }
   ],
   "source": [
    "pwd"
   ]
  },
  {
   "cell_type": "code",
   "execution_count": 53,
   "metadata": {},
   "outputs": [
    {
     "name": "stdout",
     "output_type": "stream",
     "text": [
      "dnaseq.txt  Untitled.ipynb\r\n"
     ]
    }
   ],
   "source": [
    "ls"
   ]
  },
  {
   "cell_type": "code",
   "execution_count": 54,
   "metadata": {},
   "outputs": [
    {
     "name": "stdout",
     "output_type": "stream",
     "text": [
      "atctggtttaaattgggaatcctcgat\n",
      "\n",
      "attcttcttggatc\n"
     ]
    }
   ],
   "source": [
    "with open(\"dnaseq.txt\", \"r\") as rf:\n",
    "    for line in rf:\n",
    "        print(line)"
   ]
  },
  {
   "cell_type": "markdown",
   "metadata": {},
   "source": [
    "## Reading Files"
   ]
  },
  {
   "cell_type": "code",
   "execution_count": 59,
   "metadata": {},
   "outputs": [],
   "source": [
    "import os"
   ]
  },
  {
   "cell_type": "code",
   "execution_count": 60,
   "metadata": {},
   "outputs": [],
   "source": [
    "datapath = \"/home/eebc177student/Developer/repos/CSB/python/data\"\n",
    "os.chdir(datapath)"
   ]
  },
  {
   "cell_type": "code",
   "execution_count": 62,
   "metadata": {},
   "outputs": [],
   "source": [
    "dd=[]\n",
    "with open (\"Dalziel2016_data.csv\", \"r\") as ff:\n",
    "    for line in ff:\n",
    "        #print(line)\n",
    "        dd.append(line)"
   ]
  },
  {
   "cell_type": "code",
   "execution_count": 63,
   "metadata": {},
   "outputs": [
    {
     "data": {
      "text/plain": [
       "'biweek,year,loc,cases,pop\\n'"
      ]
     },
     "execution_count": 63,
     "metadata": {},
     "output_type": "execute_result"
    }
   ],
   "source": [
    "dd[0]"
   ]
  },
  {
   "cell_type": "code",
   "execution_count": 64,
   "metadata": {},
   "outputs": [
    {
     "data": {
      "text/plain": [
       "'1,1906,BALTIMORE,NA,526822.1365\\n'"
      ]
     },
     "execution_count": 64,
     "metadata": {},
     "output_type": "execute_result"
    }
   ],
   "source": [
    "dd[1]"
   ]
  },
  {
   "cell_type": "markdown",
   "metadata": {},
   "source": [
    "## How could we select only cases from 1910"
   ]
  },
  {
   "cell_type": "code",
   "execution_count": null,
   "metadata": {},
   "outputs": [],
   "source": []
  }
 ],
 "metadata": {
  "kernelspec": {
   "display_name": "Python 3",
   "language": "python",
   "name": "python3"
  },
  "language_info": {
   "codemirror_mode": {
    "name": "ipython",
    "version": 3
   },
   "file_extension": ".py",
   "mimetype": "text/x-python",
   "name": "python",
   "nbconvert_exporter": "python",
   "pygments_lexer": "ipython3",
   "version": "3.7.5"
  }
 },
 "nbformat": 4,
 "nbformat_minor": 2
}
