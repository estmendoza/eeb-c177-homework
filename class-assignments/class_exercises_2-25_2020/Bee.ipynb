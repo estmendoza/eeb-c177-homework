{
 "cells": [
  {
   "cell_type": "code",
   "execution_count": 4,
   "metadata": {},
   "outputs": [],
   "source": [
    "import csv\n",
    "import re\n",
    "inputpath = 'bee_list.txt'"
   ]
  },
  {
   "cell_type": "code",
   "execution_count": 5,
   "metadata": {},
   "outputs": [
    {
     "name": "stdout",
     "output_type": "stream",
     "text": [
      "['Scientific Name', 'Taxon Author', 'tsn']\n"
     ]
    }
   ],
   "source": [
    "authors = []\n",
    "with open(inputpath, \"r\") as dset:\n",
    "    data = csv.DictReader(dset, delimiter = \"\\t\")\n",
    "    for row in data:\n",
    "        authors.append(row[\"Taxon Author\"])\n",
    "    header = data.fieldnames\n",
    "    \n",
    "print(header)"
   ]
  },
  {
   "cell_type": "code",
   "execution_count": 6,
   "metadata": {},
   "outputs": [],
   "source": [
    "regex = re.compile(r'\\(?([\\w\\s,\\.\\-\\&]*),\\s(\\d{4})\\)?')"
   ]
  },
  {
   "cell_type": "code",
   "execution_count": 7,
   "metadata": {},
   "outputs": [
    {
     "data": {
      "text/plain": [
       "[('Tadauchi, Hirashima & Matsumura', '1987')]"
      ]
     },
     "execution_count": 7,
     "metadata": {},
     "output_type": "execute_result"
    }
   ],
   "source": [
    "re.findall(regex,authors[37])"
   ]
  },
  {
   "cell_type": "code",
   "execution_count": 8,
   "metadata": {},
   "outputs": [],
   "source": [
    "def author_list(author):\n",
    "    new_list = re.match(regex, author)\n",
    "    authorlist = new_list.group(1)\n",
    "    yearlist = new_list.group(2)\n",
    "    authorlist = re.split(', | \\& ', authorlist)\n",
    "    return [authorlist, yearlist]"
   ]
  },
  {
   "cell_type": "code",
   "execution_count": 10,
   "metadata": {},
   "outputs": [
    {
     "data": {
      "text/plain": [
       "[['Tadauchi', 'Hirashima', 'Matsumura'], '1987']"
      ]
     },
     "execution_count": 10,
     "metadata": {},
     "output_type": "execute_result"
    }
   ],
   "source": [
    "author_list(authors[37])"
   ]
  },
  {
   "cell_type": "code",
   "execution_count": 14,
   "metadata": {},
   "outputs": [],
   "source": [
    "from collections import defaultdict\n",
    "\n",
    "author_dict = defaultdict(int)\n",
    "year_dict = defaultdict(int)\n",
    "\n",
    "for record in authors:\n",
    "    "
   ]
  },
  {
   "cell_type": "code",
   "execution_count": 11,
   "metadata": {},
   "outputs": [],
   "source": [
    "dict_authors = {}\n",
    "for author in authors:\n",
    "    new_list = author_list(author)\n",
    "    for author_number in new_list[0]:\n",
    "        if author_number in dict_authors.keys():\n",
    "            dict_authors[author_number] = dict_authors[author_number] + 1 \n",
    "        else:\n",
    "            dict_authors[author_number] =  1 "
   ]
  },
  {
   "cell_type": "code",
   "execution_count": 12,
   "metadata": {},
   "outputs": [],
   "source": [
    "max_value_author = max(dict_authors.values())\n",
    "which_index = list(dict_authors.values()).index(max_value_author)"
   ]
  },
  {
   "cell_type": "code",
   "execution_count": 13,
   "metadata": {},
   "outputs": [
    {
     "data": {
      "text/plain": [
       "'Cockerell'"
      ]
     },
     "execution_count": 13,
     "metadata": {},
     "output_type": "execute_result"
    }
   ],
   "source": [
    "list(dict_authors.keys())[which_index]"
   ]
  },
  {
   "cell_type": "code",
   "execution_count": null,
   "metadata": {},
   "outputs": [],
   "source": []
  }
 ],
 "metadata": {
  "kernelspec": {
   "display_name": "Python 3",
   "language": "python",
   "name": "python3"
  },
  "language_info": {
   "codemirror_mode": {
    "name": "ipython",
    "version": 3
   },
   "file_extension": ".py",
   "mimetype": "text/x-python",
   "name": "python",
   "nbconvert_exporter": "python",
   "pygments_lexer": "ipython3",
   "version": "3.7.5"
  }
 },
 "nbformat": 4,
 "nbformat_minor": 2
}
