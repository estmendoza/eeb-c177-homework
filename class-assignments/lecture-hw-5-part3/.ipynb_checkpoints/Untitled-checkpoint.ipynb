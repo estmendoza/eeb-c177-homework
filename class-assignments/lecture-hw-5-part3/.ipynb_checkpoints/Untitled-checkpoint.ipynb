{
 "cells": [
  {
   "cell_type": "code",
   "execution_count": 1,
   "metadata": {},
   "outputs": [],
   "source": [
    "import numpy as np #imports functions"
   ]
  },
  {
   "cell_type": "code",
   "execution_count": 5,
   "metadata": {},
   "outputs": [],
   "source": [
    "import operator as op #imports functions"
   ]
  },
  {
   "cell_type": "code",
   "execution_count": 26,
   "metadata": {},
   "outputs": [
    {
     "name": "stdout",
     "output_type": "stream",
     "text": [
      "original: {3: 4, 1: 2, 5: 6}\n",
      "ascending: [(1, 2), (3, 4), (5, 6)]\n",
      "descending: [(5, 6), (3, 4), (1, 2)]\n"
     ]
    }
   ],
   "source": [
    "d = {3:4, 1:2, 5:6} #make dictionary assigned to variable\n",
    "print('original:', d)\n",
    "sorted_d = sorted(d.items()) #sort the values\n",
    "print('ascending:', sorted_d)\n",
    "sorted_d = sorted(d.items(), reverse=True) #sort the values then reverse them\n",
    "print('descending:', sorted_d)"
   ]
  },
  {
   "cell_type": "code",
   "execution_count": 33,
   "metadata": {},
   "outputs": [
    {
     "name": "stdout",
     "output_type": "stream",
     "text": [
      "{0: 10, 1: 20, 2: 30}\n"
     ]
    }
   ],
   "source": [
    "d = {0:10, 1:20} #make disctionary\n",
    "d1 = {2:30} #choose disctionary entry to add\n",
    "d.update(d1) #update original dictionary with new addition\n",
    "print(d)"
   ]
  },
  {
   "cell_type": "code",
   "execution_count": 37,
   "metadata": {},
   "outputs": [
    {
     "name": "stdout",
     "output_type": "stream",
     "text": [
      "{1: 10, 2: 20, 3: 30, 4: 40, 5: 50, 6: 60}\n"
     ]
    }
   ],
   "source": [
    "dic1={1:10, 2:20} #dictionary entry 1\n",
    "dic2={3:30, 4:40} #dic2\n",
    "dic3={5:50,6:60} #dic3\n",
    "dic1.update(dic2) #add dic2 to dic1\n",
    "dic1.update(dic3) #add dic3 to dic1\n",
    "print(dic1)"
   ]
  },
  {
   "cell_type": "code",
   "execution_count": 50,
   "metadata": {},
   "outputs": [
    {
     "name": "stdout",
     "output_type": "stream",
     "text": [
      "Key is present in the dictionary\n",
      "Key is not present in the dictionary\n"
     ]
    }
   ],
   "source": [
    "d = {1: 10, 2: 20, 3: 30, 4: 40, 5: 50, 6: 60} #make dictionary\n",
    "def key(x): #specifies input\n",
    "  if x in d: #key included in dictionary\n",
    "      print('Key is present in the dictionary')\n",
    "  else: #key not included in dictionary\n",
    "      print('Key is not present in the dictionary')\n",
    "key(2) #key 2\n",
    "key(10) #key 10"
   ]
  },
  {
   "cell_type": "code",
   "execution_count": 51,
   "metadata": {},
   "outputs": [
    {
     "name": "stdout",
     "output_type": "stream",
     "text": [
      "1 : 10\n",
      "2 : 20\n",
      "3 : 30\n"
     ]
    }
   ],
   "source": [
    "d = {1: 10, 2: 20, 3: 30} #make dictionary\n",
    "for key, value in d.items(): #identify key and value as a group\n",
    "    print(key,':', value) #seperate key and value in the output"
   ]
  },
  {
   "cell_type": "code",
   "execution_count": 61,
   "metadata": {},
   "outputs": [
    {
     "name": "stdout",
     "output_type": "stream",
     "text": [
      "Input a number 3\n",
      "{1: 1, 2: 4, 3: 9}\n"
     ]
    }
   ],
   "source": [
    "n=int(input(\"Input a number \")) #user input as an int\n",
    "d = dict() #open dictionary entry\n",
    "\n",
    "for x in range(1,n+1): #starts at 1 until n, not including n+1\n",
    "    d[x]=x*x #squares input value and turns input number into a key\n",
    "\n",
    "print(d) "
   ]
  },
  {
   "cell_type": "code",
   "execution_count": 62,
   "metadata": {},
   "outputs": [
    {
     "name": "stdout",
     "output_type": "stream",
     "text": [
      "{1: 1, 2: 4, 3: 9, 4: 16, 5: 25, 6: 36, 7: 49, 8: 64, 9: 81, 10: 100, 11: 121, 12: 144, 13: 169, 14: 196, 15: 225}\n"
     ]
    }
   ],
   "source": [
    "d=dict() #open disctionary entry\n",
    "for x in range(1,16): #starts at 1 until 15\n",
    "    d[x]=x**2 #square each int from the range\n",
    "print(d)"
   ]
  },
  {
   "cell_type": "code",
   "execution_count": 67,
   "metadata": {},
   "outputs": [
    {
     "name": "stdout",
     "output_type": "stream",
     "text": [
      "{1: 10, 2: 20, 3: 30, 4: 40}\n"
     ]
    }
   ],
   "source": [
    "d1 = {1: 10, 2: 20} #original dictionary\n",
    "d2 = {3: 30, 4: 40} #dictionary entry to add\n",
    "d1.update(d2) #update original dictionary with new addition\n",
    "print(d1)"
   ]
  },
  {
   "cell_type": "code",
   "execution_count": 68,
   "metadata": {},
   "outputs": [
    {
     "name": "stdout",
     "output_type": "stream",
     "text": [
      "1 : 10\n",
      "2 : 20\n",
      "3 : 30\n"
     ]
    }
   ],
   "source": [
    "d = {1: 10, 2: 20, 3: 30} #make dictionary\n",
    "for key, value in d.items(): #identify key and value as a group\n",
    "    print(key,':', value) #seperate key and value in the output"
   ]
  },
  {
   "cell_type": "code",
   "execution_count": 69,
   "metadata": {},
   "outputs": [
    {
     "name": "stdout",
     "output_type": "stream",
     "text": [
      "29\n"
     ]
    }
   ],
   "source": [
    "dic = {1:10, 2:-5, 3:24} #make dictionary\n",
    "print(sum(dic.values())) #sum values for each dictionary item"
   ]
  },
  {
   "cell_type": "code",
   "execution_count": null,
   "metadata": {},
   "outputs": [],
   "source": []
  }
 ],
 "metadata": {
  "kernelspec": {
   "display_name": "Python 3",
   "language": "python",
   "name": "python3"
  },
  "language_info": {
   "codemirror_mode": {
    "name": "ipython",
    "version": 3
   },
   "file_extension": ".py",
   "mimetype": "text/x-python",
   "name": "python",
   "nbconvert_exporter": "python",
   "pygments_lexer": "ipython3",
   "version": "3.7.5"
  }
 },
 "nbformat": 4,
 "nbformat_minor": 2
}
