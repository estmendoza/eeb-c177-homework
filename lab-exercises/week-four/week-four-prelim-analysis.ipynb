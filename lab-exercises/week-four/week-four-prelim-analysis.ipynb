{
 "cells": [
  {
   "cell_type": "code",
   "execution_count": 27,
   "metadata": {},
   "outputs": [
    {
     "data": {
      "text/plain": [
       "array([[2., 1., 1., ..., 4., 5., 1.],\n",
       "       [1., 1., 1., ..., 1., 1., 1.],\n",
       "       [1., 1., 1., ..., 1., 1., 1.],\n",
       "       ...,\n",
       "       [2., 3., 2., ..., 5., 5., 1.],\n",
       "       [1., 1., 1., ..., 5., 5., 1.],\n",
       "       [1., 1., 2., ..., 5., 5., 1.]])"
      ]
     },
     "execution_count": 27,
     "metadata": {},
     "output_type": "execute_result"
    }
   ],
   "source": [
    "import numpy as np #import numpy\n",
    "np.genfromtxt(\"FIND Survey Raw Data.csv\", #import csv without header and first column\n",
    "              delimiter=',', #specify delimiter\n",
    "              skip_header=True)[:,1:] #headers are strings and first column is ID data"
   ]
  },
  {
   "cell_type": "code",
   "execution_count": 28,
   "metadata": {},
   "outputs": [],
   "source": [
    "survey_data = np.genfromtxt(\"FIND Survey Raw Data.csv\", #assign array to variable\n",
    "                            delimiter=',', \n",
    "                            skip_header=True)[:,1:]"
   ]
  },
  {
   "cell_type": "code",
   "execution_count": 29,
   "metadata": {},
   "outputs": [
    {
     "name": "stdout",
     "output_type": "stream",
     "text": [
      "<class 'numpy.ndarray'>\n"
     ]
    }
   ],
   "source": [
    "print(type(survey_data)) #type of variable"
   ]
  },
  {
   "cell_type": "code",
   "execution_count": 30,
   "metadata": {},
   "outputs": [
    {
     "name": "stdout",
     "output_type": "stream",
     "text": [
      "float64\n"
     ]
    }
   ],
   "source": [
    "print(survey_data.dtype) #type of data"
   ]
  },
  {
   "cell_type": "code",
   "execution_count": 31,
   "metadata": {},
   "outputs": [
    {
     "name": "stdout",
     "output_type": "stream",
     "text": [
      "(3303, 124)\n"
     ]
    }
   ],
   "source": [
    "print(survey_data.shape) #shape of the array"
   ]
  },
  {
   "cell_type": "code",
   "execution_count": 32,
   "metadata": {},
   "outputs": [],
   "source": [
    "survey_data_shape = survey_data.shape #assign shape to variable"
   ]
  },
  {
   "cell_type": "code",
   "execution_count": 33,
   "metadata": {},
   "outputs": [
    {
     "name": "stdout",
     "output_type": "stream",
     "text": [
      "(3303, 124)\n"
     ]
    }
   ],
   "source": [
    "print(survey_data_shape)"
   ]
  },
  {
   "cell_type": "code",
   "execution_count": 34,
   "metadata": {},
   "outputs": [
    {
     "name": "stdout",
     "output_type": "stream",
     "text": [
      "actual/nearest middle value of dataset: 3.0\n"
     ]
    }
   ],
   "source": [
    "middle_row = int(survey_data_shape[0]/2) #half point of rows\n",
    "middle_col = int(survey_data_shape[1]/2) #half point of columns\n",
    "\n",
    "print('actual/nearest middle value of dataset:', #find middle point of dataset\n",
    "      survey_data[middle_row, middle_col])"
   ]
  },
  {
   "cell_type": "code",
   "execution_count": 44,
   "metadata": {},
   "outputs": [
    {
     "name": "stdout",
     "output_type": "stream",
     "text": [
      "[1.40084771 2.0269452  1.86224644 4.79455824 4.81020782 3.45903651\n",
      " 3.38834053 1.68438741 1.52979115 2.16340867 2.06633907 3.42673993\n",
      " 3.06433824 2.7132716  2.71286822 3.92769608 3.75752919 4.17826618\n",
      " 4.0379902  1.50884146 1.9797235  4.11732356 4.41322314 2.9898959\n",
      " 2.81516733 1.90325553 1.96972505 4.36769654 4.19993876 2.86116208\n",
      " 2.49600737 3.29621721 3.15641261 3.46189024 3.47846013 4.67973056\n",
      " 4.3814211  3.14172023 3.30092025 3.98899083 4.02084611 4.92560976\n",
      " 4.84899329 4.86916743 4.66941392 3.31496786 3.30582822 2.63908397\n",
      " 2.56468424 2.98717557 3.16697417 2.43053856 2.55889571 1.26876144\n",
      " 2.27924877 1.75774302 1.78423493 3.91014316 3.24295343 4.75702076\n",
      " 4.63658611 3.37916285 3.22808093 3.20110362 3.38286767 4.53298717\n",
      " 4.29546846 1.38243367 1.61947174 4.42519926 4.47102343 3.12733395\n",
      " 3.20751232 3.90296002 3.72060178 3.78871512 3.73551171 4.25022971\n",
      " 4.09578072 1.18470948 1.19655491 3.53384146 3.51652387 4.95487805\n",
      " 4.90182927 4.19938556 4.09812365 4.23048669 4.10463332 2.99938875\n",
      " 3.52600979 4.86015912 4.75076453 2.45563035 2.92012289 2.82046569\n",
      " 3.34470046 3.93174166 3.80658057 1.3753433  1.32972471 3.23079268\n",
      " 2.95323961 3.29111993 2.78302176 4.15981595 4.40350338 3.83062787\n",
      " 3.72498465 3.76231263 3.63917842 4.33180848 4.24312767 4.82031727\n",
      " 4.7677754  4.68416234 4.37828746 3.32558851 3.29364836 2.25114574\n",
      " 2.27825553 4.34948202 4.61085697 0.99303663]\n"
     ]
    }
   ],
   "source": [
    "print(np.nanmean(survey_data, axis = 0)) \n",
    "#mean value for each column\n",
    "#nanmean ignores empty values in that column\n",
    "#(mean rank for each condition among all ppl surveyed)"
   ]
  },
  {
   "cell_type": "code",
   "execution_count": 48,
   "metadata": {},
   "outputs": [
    {
     "name": "stdout",
     "output_type": "stream",
     "text": [
      "max: 5.0 , min: 0.0 , stdev: 1.5209838866495986\n"
     ]
    }
   ],
   "source": [
    "maxval, minval = np.nanmax(survey_data), np.nanmin(survey_data) #max and min rank values\n",
    "#nanmax/nanmin/nanstd ignores empty cells in column\n",
    "stdval = np.nanstd(survey_data) #standard deviation of ranks\n",
    "print('max:',maxval,', min:',minval,', stdev:',stdval) #print calculations"
   ]
  },
  {
   "cell_type": "code",
   "execution_count": 50,
   "metadata": {},
   "outputs": [
    {
     "name": "stdout",
     "output_type": "stream",
     "text": [
      "124\n"
     ]
    }
   ],
   "source": [
    "survey_means_down = np.nanmean(survey_data, axis=0) #nanmean ignores empty cells in column\n",
    "print(len(survey_means_down)) \n",
    "#number of means should equal number of columns\n",
    "#output confirms"
   ]
  },
  {
   "cell_type": "code",
   "execution_count": 52,
   "metadata": {},
   "outputs": [],
   "source": [
    "#potential to explore how conditions were ranked against \n",
    "#eachother based on some kind of difference between \n",
    "#them, or the people being surveyed "
   ]
  },
  {
   "cell_type": "code",
   "execution_count": null,
   "metadata": {},
   "outputs": [],
   "source": []
  }
 ],
 "metadata": {
  "kernelspec": {
   "display_name": "Python 3",
   "language": "python",
   "name": "python3"
  },
  "language_info": {
   "codemirror_mode": {
    "name": "ipython",
    "version": 3
   },
   "file_extension": ".py",
   "mimetype": "text/x-python",
   "name": "python",
   "nbconvert_exporter": "python",
   "pygments_lexer": "ipython3",
   "version": "3.7.5"
  }
 },
 "nbformat": 4,
 "nbformat_minor": 2
}
